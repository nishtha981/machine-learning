{
 "cells": [
  {
   "cell_type": "markdown",
   "metadata": {},
   "source": [
    "## Support Vector Machine from Scratch ##\n",
    "I tried to create a support vector machine for linear classification without using any ML libraries. I only used numpy for math and matplotlib for plotting graphs."
   ]
  },
  {
   "cell_type": "markdown",
   "metadata": {},
   "source": [
    "### Import Libraries ###"
   ]
  },
  {
   "cell_type": "code",
   "execution_count": 22,
   "metadata": {
    "collapsed": true
   },
   "outputs": [],
   "source": [
    "import numpy as np\n",
    "import matplotlib.pyplot as plt\n",
    "\n",
    "# Use Matplotlib in jupyter\n",
    "%matplotlib inline"
   ]
  },
  {
   "cell_type": "markdown",
   "metadata": {},
   "source": [
    "### Define Data ###\n",
    "There are the data points to train SVM. X array is the coordinates of points and Y array is the labels of points."
   ]
  },
  {
   "cell_type": "code",
   "execution_count": 23,
   "metadata": {
    "collapsed": true
   },
   "outputs": [],
   "source": [
    "# Input data - [X coordinate, Y coordinate]\n",
    "X = np.array([[1.6,0.3], [1.8,0.5], [2.0,0.7], [2.2,0.4], [2.4,0.6], [2.3,0.5], [2.1,0.5],\n",
    "              [1.7,1.7], [2.5,1.0], [1.0,3.0], [2.0,1.5], [1.5,1.5], [1.5,2.0], [1.0,2.5],\n",
    "              [1.6,1.6], [2.4,0.9], [0.9,2.9], [1.9,1.4], [1.0,1.4], [1.4,1.9], [0.9,2.4],\n",
    "              [1.5,1.7], [2.3,1.1], [0.4,1.0], [1.0,0.7], [1.2,1.5], [1.2,1.0], [1.0,1.1],\n",
    "              [1.0,1.7], [1.3,1.1], [0.7,1.0], [0.4,0.7], [0.2,1.5], [0.2,1.0], [0.4,1.1],\n",
    "              [1.0,0.5], [1.3,0.1], [0.7,0.3], [0.4,0.4], [0.2,0.5], [0.2,0.1], [0.4,0.1],\n",
    "              [1.0,2.4], [1.3,2.1], [0.7,2.0], [0.4,2.7], [0.2,2.5], [0.2,2.0], [0.4,2.1],\n",
    "              [3.4,2.0], [3.5,2.1], [3.6,2.3], [3.4,2.4], [3.5,2.5], [3.1,2.6], [3.3,2.7],\n",
    "              [2.0,3.1], [3.5,1.0], [4.0,1.5], [3.0,3.0], [3.0,2.0], [2.5,2.5], [3.3,1.5],\n",
    "              [3.9,2.5], [3.9,2.0], [3.8,3.0], [3.8,2.9], [3.9,2.7], [3.9,2.5], [3.9,2.7],\n",
    "              [2.1,3.1], [3.6,1.1], [3.8,1.7], [3.2,3.1], [2.9,2.1], [2.6,2.4], [3.2,1.4],\n",
    "              [4.0,0.1], [3.9,0.2], [3.9,0.3], [3.7,0.5], [3.9,0.7], [3.9,0.4], [3.7,0.4]])\n",
    "\n",
    "# Labels (1 or -1)\n",
    "Y = np.array([-1, -1, -1, -1, -1, -1, -1,\n",
    "              -1, -1, -1, -1, -1, -1, -1,\n",
    "              -1, -1, -1, -1, -1, -1, -1,\n",
    "              -1, -1, -1, -1, -1, -1, -1,\n",
    "              -1, -1, -1, -1, -1, -1, -1,\n",
    "              -1, -1, -1, -1, -1, -1, -1,\n",
    "              -1, -1, -1, -1, -1, -1, -1,\n",
    "              1, 1, 1, 1, 1, 1, 1,\n",
    "              1, 1, 1, 1, 1, 1, 1,\n",
    "              1, 1, 1, 1, 1, 1, 1,\n",
    "              1, 1, 1, 1, 1, 1, 1,\n",
    "              1, 1, 1, 1, 1, 1, 1])"
   ]
  },
  {
   "cell_type": "markdown",
   "metadata": {},
   "source": [
    "### Plot data on a 2d graph ###\n",
    "Let's plot the data to see the data points using matplotlib."
   ]
  },
  {
   "cell_type": "code",
   "execution_count": 24,
   "metadata": {},
   "outputs": [
    {
     "data": {
      "text/plain": [
       "[<matplotlib.lines.Line2D at 0x10bb889b0>]"
      ]
     },
     "execution_count": 24,
     "metadata": {},
     "output_type": "execute_result"
    },
    {
     "data": {
      "image/png": "[encoded data removed]",
      "text/plain": [
       "<matplotlib.figure.Figure at 0x10bb88c88>"
      ]
     },
     "metadata": {},
     "output_type": "display_data"
    }
   ],
   "source": [
    "# For every point mark point with - if label is -1 and mark with + if label is 1\n",
    "for i in range(len(X)):\n",
    "    if Y[i] == -1:\n",
    "        plt.scatter(X[i][0], X[i][1], s=120, marker='_', linewidths=2)\n",
    "    else:\n",
    "        plt.scatter(X[i][0], X[i][1], s=120, marker='+', linewidths=2)\n",
    "        \n",
    "# Red line is how it will look like...\n",
    "plt.plot([3.6,1.5],[0.0,3.0],'r')"
   ]
  },
  {
   "cell_type": "markdown",
   "metadata": {},
   "source": [
    "### Real Time Plotting While Training ###"
   ]
  },
  {
   "cell_type": "markdown",
   "metadata": {},
   "source": [
    "### Loss Function (A lot of Math)###\n",
    "I use the Hinge Loss which is used for training classifiers and used for \"maximum-margin\" which is mostly usable for Support Vector Machines.\n",
    "\n",
    "#### Loss Function ####\n",
    "Hinge loss is shown as:\n",
    "<img src=\"hingeloss.png\"> \n",
    "where: \n",
    "- c is loss function,\n",
    "- x is the vector of coordinates of point,\n",
    "- y is the correct label of point and,\n",
    "- f(x) is the label the SVM predicts\n",
    "\n",
    "#### Objective Function ####\n",
    "Objective Function conteins two terms: The first term is a regularizer, and the second term the loss. \n",
    "<img src=\"objectivefunc.png\">\n",
    "The part after the + sign is the loss function hinge loss, and the part before the + sign is the regularizer. Regularizer balances the margin maximization and loss.\n",
    "\n",
    "#### Minimize Loss ####\n",
    "To minimize loss, I will use gradient descent.\n",
    "<img src=\"gradient.png\">\n",
    "\n",
    "#### At the end... ####\n",
    "At the end, we have a formula:\n",
    "<img src=\"formula.png\">\n",
    "where:\n",
    "- w is weight of SVM,\n",
    "- n is the learning rate\n",
    "- lambda is the 1/epoch (change rate gets smaller while it pass epochs)"
   ]
  },
  {
   "cell_type": "code",
   "execution_count": 25,
   "metadata": {
    "collapsed": true
   },
   "outputs": [],
   "source": [
    "def train_svm(X, Y, epochs=10000):\n",
    "    #Initialize our SVMs weight vector with zeros (3 values)\n",
    "    w = np.zeros(len(X[0]))\n",
    "\n",
    "    # The learning rate\n",
    "    learning_rate = 1\n",
    "    \n",
    "    # See the change\n",
    "    w0_per_epoch = []\n",
    "    w1_per_epoch = []\n",
    "    \n",
    "    # Training\n",
    "    print(\"starts training\")\n",
    "    for epoch in range(1, epochs):\n",
    "        error = 0\n",
    "        for i, x in enumerate(X):\n",
    "            # It there is an error\n",
    "            if (Y[i] * np.dot(X[i], w)) < 1:\n",
    "                w = w + learning_rate * ((X[i] * Y[i]) + (-2 * (1/epochs) * w))\n",
    "            else:\n",
    "                w = w + learning_rate * (-2 * (1/epochs) * w)\n",
    "                \n",
    "        w0_per_epoch.append(w[0])\n",
    "        w1_per_epoch.append(w[1])\n",
    "    \n",
    "    return w, w0_per_epoch, w1_per_epoch"
   ]
  },
  {
   "cell_type": "code",
   "execution_count": 26,
   "metadata": {},
   "outputs": [
    {
     "name": "stdout",
     "output_type": "stream",
     "text": [
      "starts training\n"
     ]
    }
   ],
   "source": [
    "w, w0array, w1array = train_svm(X, Y, epochs=10000)\n",
    "print(w)"
   ]
  },
  {
   "cell_type": "code",
   "execution_count": 27,
   "metadata": {},
   "outputs": [
    {
     "name": "stdout",
     "output_type": "stream",
     "text": [
      "[3.46279308 1.85732796]\n"
     ]
    }
   ],
   "source": [
    "# You cannot see anything in the graph of 10000 numbers :)\n",
    "epochs = len(w0array)\n",
    "\n",
    "# It will divide epochs to this number\n",
    "number_of_weights_to_graph = 100\n",
    "\n",
    "num_per_epoch = epochs/number_of_weights_to_graph\n",
    "\n",
    "w0_to_graph = []\n",
    "w1_to_graph = []\n",
    "epoch_to_graph = []\n",
    "\n",
    "for i in range(number_of_weights_to_graph):\n",
    "    epoch_to_graph.append(int(num_per_epoch*i))\n",
    "    w0_to_graph.append(w0array[int(num_per_epoch*i)])\n",
    "    w1_to_graph.append(w1array[int(num_per_epoch*i)])\n",
    "    \n",
    "plt.plot(epoch_to_graph, w0_to_graph, 'r',epoch_to_graph, w1_to_graph,'b')"
   ]
  },
  {
   "cell_type": "code",
   "execution_count": 28,
   "metadata": {},
   "outputs": [
    {
     "data": {
      "text/plain": [
       "<matplotlib.quiver.Quiver at 0x10e39ed68>"
      ]
     },
     "execution_count": 28,
     "metadata": {},
     "output_type": "execute_result"
    },
    {
     "data": {
      "image/png": "[encoded data removed]",
      "text/plain": [
       "<matplotlib.figure.Figure at 0x10e276be0>"
      ]
     },
     "metadata": {},
     "output_type": "display_data"
    }
   ],
   "source": [
    "# Input data - [X coordinate, Y coordinate]\n",
    "X = np.array([[1.6,0.3], [1.8,0.5], [2.0,0.7], [2.2,0.4], [2.4,0.6], [2.3,0.5], [2.1,0.5],\n",
    "              [1.7,1.7], [2.5,1.0], [1.0,3.0], [2.0,1.5], [1.5,1.5], [1.5,2.0], [1.0,2.5],\n",
    "              [1.6,1.6], [2.4,0.9], [0.9,2.9], [1.9,1.4], [1.0,1.4], [1.4,1.9], [0.9,2.4],\n",
    "              [1.5,1.7], [2.3,1.1], [0.4,1.0], [1.0,0.7], [1.2,1.5], [1.2,1.0], [1.0,1.1],\n",
    "              [1.0,1.7], [1.3,1.1], [0.7,1.0], [0.4,0.7], [0.2,1.5], [0.2,1.0], [0.4,1.1],\n",
    "              [1.0,0.5], [1.3,0.1], [0.7,0.3], [0.4,0.4], [0.2,0.5], [0.2,0.1], [0.4,0.1],\n",
    "              [1.0,2.4], [1.3,2.1], [0.7,2.0], [0.4,2.7], [0.2,2.5], [0.2,2.0], [0.4,2.1],\n",
    "              [3.4,2.0], [3.5,2.1], [3.6,2.3], [3.4,2.4], [3.5,2.5], [3.1,2.6], [3.3,2.7],\n",
    "              [2.0,3.1], [3.5,1.0], [4.0,1.5], [3.0,3.0], [3.0,2.0], [2.5,2.5], [3.3,1.5],\n",
    "              [3.9,2.5], [3.9,2.0], [3.8,3.0], [3.8,2.9], [3.9,2.7], [3.9,2.5], [3.9,2.7],\n",
    "              [2.1,3.1], [3.6,1.1], [3.8,1.7], [3.2,3.1], [2.9,2.1], [2.6,2.4], [3.2,1.4],\n",
    "              [4.0,0.1], [3.9,0.2], [3.9,0.3], [3.7,0.5], [3.9,0.7], [3.9,0.4], [3.7,0.4]])\n",
    "\n",
    "# Labels (1 or -1)\n",
    "Y = np.array([-1, -1, -1, -1, -1, -1, -1,\n",
    "              -1, -1, -1, -1, -1, -1, -1,\n",
    "              -1, -1, -1, -1, -1, -1, -1,\n",
    "              -1, -1, -1, -1, -1, -1, -1,\n",
    "              -1, -1, -1, -1, -1, -1, -1,\n",
    "              -1, -1, -1, -1, -1, -1, -1,\n",
    "              -1, -1, -1, -1, -1, -1, -1,\n",
    "              1, 1, 1, 1, 1, 1, 1,\n",
    "              1, 1, 1, 1, 1, 1, 1,\n",
    "              1, 1, 1, 1, 1, 1, 1,\n",
    "              1, 1, 1, 1, 1, 1, 1,\n",
    "              1, 1, 1, 1, 1, 1, 1])\n",
    "\n",
    "\n",
    "# For every point mark point with - if label is -1 and mark with + if label is 1\n",
    "for i in range(len(X)):\n",
    "    if Y[i] == -1:\n",
    "        plt.scatter(X[i][0], X[i][1], s=120, marker='_', linewidths=2)\n",
    "    else:\n",
    "        plt.scatter(X[i][0], X[i][1], s=120, marker='+', linewidths=2)\n",
    "\n",
    "# Print the hyperplane calculated by svm_sgd()\n",
    "x2=[w[0]*0.65,w[1],-w[1],w[0]]\n",
    "x3=[w[0]*0.65,w[1],w[1],-w[0]]\n",
    "\n",
    "x2x3 =np.array([x2,x3])\n",
    "X,Y,U,V = zip(*x2x3)\n",
    "ax = plt.gca()\n",
    "ax.quiver(X,Y,U,V,scale=1, color='blue')"
   ]
  },
  {
   "cell_type": "code",
   "execution_count": null,
   "metadata": {
    "collapsed": true
   },
   "outputs": [],
   "source": []
  },
  {
   "cell_type": "code",
   "execution_count": null,
   "metadata": {
    "collapsed": true
   },
   "outputs": [],
   "source": []
  }
 ],
 "metadata": {
  "kernelspec": {
   "display_name": "Python 3",
   "language": "python",
   "name": "python3"
  },
  "language_info": {
   "codemirror_mode": {
    "name": "ipython",
    "version": 3
   },
   "file_extension": ".py",
   "mimetype": "text/x-python",
   "name": "python",
   "nbconvert_exporter": "python",
   "pygments_lexer": "ipython3",
   "version": "3.6.3"
  }
 },
 "nbformat": 4,
 "nbformat_minor": 2
}
